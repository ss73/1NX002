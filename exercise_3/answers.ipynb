{
 "cells": [
  {
   "cell_type": "markdown",
   "metadata": {},
   "source": [
    "## Has-a relationship\n",
    "The `Person` class from the last exercise wants a pet. Write a `Pet` class and add it as an attribute to the `Person` class. \n",
    "\n",
    "A pet should:\n",
    "- have a name\n",
    "- have a favourite food\n",
    "- be able to do a trick\n",
    "\n",
    "Add a method `describe_pet` to the `Person` class. This method returns a description of a persons pet.\n",
    "\n",
    "Create some pet and person objects and call the method `describe_pet` to make sure\n",
    "everything works."
   ]
  },
  {
   "cell_type": "code",
   "execution_count": 2,
   "metadata": {},
   "outputs": [
    {
     "name": "stdout",
     "output_type": "stream",
     "text": [
      "Name: Alice, Age: 25\n",
      "Pet name: Fluffy, Favourite food: fish\n"
     ]
    }
   ],
   "source": [
    "class Person:\n",
    "    def __init__(self, name, age, pet):\n",
    "        self.name = name\n",
    "        self.age = age\n",
    "        self.pet = pet\n",
    "\n",
    "    def display_info(self):\n",
    "        print(f\"Name: {self.name}, Age: {self.age}\")\n",
    "\n",
    "    def increase_age(self):\n",
    "        self.age += 1\n",
    "\n",
    "    def describe_pet(self):\n",
    "        print(self.pet.get_info())\n",
    "\n",
    "class Pet:\n",
    "    def __init__(self, name, favourite_food):\n",
    "        self.name = name\n",
    "        self.favourite_food = favourite_food\n",
    "    \n",
    "    def get_info(self):\n",
    "        return f\"Pet name: {self.name}, Favourite food: {self.favourite_food}\"\n",
    "    \n",
    "    def do_trick(self):\n",
    "        raise NotImplementedError(\"Subclasses must implement abstract method\")\n",
    "\n",
    "alice = Person(\"Alice\", 25, Pet(\"Fluffy\", \"fish\"))\n",
    "alice.display_info()\n",
    "alice.describe_pet()"
   ]
  },
  {
   "cell_type": "markdown",
   "metadata": {},
   "source": [
    "## Is-a relationship and polymorphism\n",
    "\n",
    "Add a couple of subclasses to the Pet class inheriting from `Pet`. The subclasses should\n",
    "have some attributes and methods extending the characteristics of `Pet`. Create some\n",
    "objects now as well. Create a person object with a subclass-pet.\n",
    "\n",
    "Implement the method `do_trick` differently in the `Pet` subclasses and demonstrate that you\n",
    "get different results for different pets"
   ]
  },
  {
   "cell_type": "code",
   "execution_count": 6,
   "metadata": {},
   "outputs": [
    {
     "name": "stdout",
     "output_type": "stream",
     "text": [
      "Name: Bob, Age: 30\n",
      "Dog name: Rex, Favourite food: meat, Breed: German Shepherd\n",
      "The dog is wagging its tail\n",
      "\n",
      "Name: Eve, Age: 35\n",
      "Cat name: Whiskers, Favourite food: milk, Colour: white\n",
      "The cat is purring\n"
     ]
    }
   ],
   "source": [
    "class Dog(Pet):\n",
    "    def __init__(self, name, favourite_food, breed):\n",
    "        super().__init__(name, favourite_food)\n",
    "        self.breed = breed\n",
    "\n",
    "    def get_info(self):\n",
    "        return f\"Dog name: {self.name}, Favourite food: {self.favourite_food}, Breed: {self.breed}\"\n",
    "    \n",
    "    def do_trick(self):\n",
    "        print(\"The dog is wagging its tail\")\n",
    "\n",
    "class Cat(Pet):\n",
    "    def __init__(self, name, favourite_food, colour):\n",
    "        super().__init__(name, favourite_food)\n",
    "        self.colour = colour\n",
    "\n",
    "    def get_info(self):\n",
    "        return f\"Cat name: {self.name}, Favourite food: {self.favourite_food}, Colour: {self.colour}\"\n",
    "    \n",
    "    def do_trick(self):\n",
    "        print(\"The cat is purring\")\n",
    "\n",
    "bob = Person(\"Bob\", 30, Dog(\"Rex\", \"meat\", \"German Shepherd\"))\n",
    "bob.display_info()\n",
    "bob.describe_pet()\n",
    "bob.pet.do_trick()\n",
    "print()\n",
    "eve = Person(\"Eve\", 35, Cat(\"Whiskers\", \"milk\", \"white\"))\n",
    "eve.display_info()\n",
    "eve.describe_pet()\n",
    "eve.pet.do_trick()\n",
    "\n"
   ]
  },
  {
   "cell_type": "markdown",
   "metadata": {},
   "source": [
    "## Programming principles\n",
    "\n",
    "Explain the Liskov substitution principle to an old friend or house plant."
   ]
  },
  {
   "cell_type": "markdown",
   "metadata": {},
   "source": [
    "> The Liskov Substitution Principle can be roughly described as _\"Be backwards compatible\"_: If you inherit a class, you can _extend_ its behaviour, but you must never _restrict_ what was there originally. \n",
    ">\n",
    "> This can be summarized in a couple of implied sub-principles:\n",
    "> - Preconditions cannot be strengthened\n",
    "> - Postconditions cannot be weakened\n",
    "> \n",
    "> There are more to it, and a more in-depth description can be read on [Wikipedia](https://en.wikipedia.org/wiki/Liskov_substitution_principle)"
   ]
  }
 ],
 "metadata": {
  "kernelspec": {
   "display_name": "Python 3",
   "language": "python",
   "name": "python3"
  },
  "language_info": {
   "codemirror_mode": {
    "name": "ipython",
    "version": 3
   },
   "file_extension": ".py",
   "mimetype": "text/x-python",
   "name": "python",
   "nbconvert_exporter": "python",
   "pygments_lexer": "ipython3",
   "version": "3.9.6"
  }
 },
 "nbformat": 4,
 "nbformat_minor": 2
}
