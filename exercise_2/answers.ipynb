{
 "cells": [
  {
   "cell_type": "markdown",
   "metadata": {},
   "source": [
    "## Add attributes and a method to a class\n",
    "\n",
    "Add a couple of attributes to the class, and instantiate some objects of the class with these new attributes.\n",
    "\n",
    "Add a method called `increase_age` to the class. The method should age the person by one year. Create a person object and age it."
   ]
  },
  {
   "cell_type": "code",
   "execution_count": 9,
   "metadata": {},
   "outputs": [
    {
     "name": "stdout",
     "output_type": "stream",
     "text": [
      "Name: Alice, Age: 30, Has driver license: True, Is married: False\n",
      "Name: Alice, Age: 31, Has driver license: True, Is married: False\n"
     ]
    }
   ],
   "source": [
    "class Person:\n",
    "    def __init__(self, name, age, has_driver_license, is_married):\n",
    "        self.name = name\n",
    "        self.age = age\n",
    "        self.has_driver_license = has_driver_license\n",
    "        self.is_married = is_married\n",
    "\n",
    "    def display_info(self):\n",
    "        print(f\"Name: {self.name}, Age: {self.age}, Has driver license: {self.has_driver_license}, Is married: {self.is_married}\")\n",
    "\n",
    "    def increase_age(self):\n",
    "        self.age += 1\n",
    "    \n",
    "person = Person(\"Alice\", 30, True, False)\n",
    "person.display_info()\n",
    "person.increase_age()\n",
    "person.display_info()"
   ]
  },
  {
   "cell_type": "markdown",
   "metadata": {},
   "source": [
    "## Write your own class"
   ]
  },
  {
   "cell_type": "code",
   "execution_count": 13,
   "metadata": {},
   "outputs": [
    {
     "name": "stdout",
     "output_type": "stream",
     "text": [
      "Name: Bob, Age: 25, Has driver license: True, Is married: False\n",
      "Student ID: 12345\n",
      "Degrees:\n",
      "  None\n",
      "Added degree: BSc\n",
      "Added degree: MSc\n",
      "Graduated with a degree in BSc\n",
      "Name: Bob, Age: 25, Has driver license: True, Is married: False\n",
      "Student ID: 12345\n",
      "Degrees:\n",
      "  BSc: Graduated\n",
      "  MSc: Not graduated\n"
     ]
    }
   ],
   "source": [
    "class Student(Person):\n",
    "    \n",
    "    VALID_DEGREES = [\"BSc\", \"MSc\", \"PhD\"]\n",
    "\n",
    "    def __init__(self, name, age, has_driver_license, is_married, student_id):\n",
    "        super().__init__(name, age, has_driver_license, is_married)\n",
    "        self.student_id = student_id\n",
    "        self.degrees = {}\n",
    "\n",
    "    def display_info(self):\n",
    "        super().display_info()\n",
    "        print(f\"Student ID: {self.student_id}\")\n",
    "        print(\"Degrees:\")\n",
    "        if not self.degrees:\n",
    "            print(\"  None\")\n",
    "        for degree, graduated in self.degrees.items():\n",
    "            print(f\"  {degree}: {'Graduated' if graduated else 'Not graduated'}\")\n",
    "\n",
    "    def add_degree(self, degree: str):\n",
    "        if degree in self.VALID_DEGREES:\n",
    "            self.degrees[degree] = False\n",
    "            print(f\"Added degree: {degree}\")\n",
    "        else:\n",
    "            raise ValueError(f\"Invalid degree: {degree}\")\n",
    "\n",
    "    def graduate(self, degree):\n",
    "        if degree not in self.degrees:\n",
    "            raise ValueError(f\"Degree not found: {degree}\")\n",
    "        self.degrees[degree] = True\n",
    "        print(f\"Graduated with a degree in {degree}\")\n",
    "\n",
    "student = Student(\"Bob\", 25, True, False, \"12345\")\n",
    "student.display_info()\n",
    "\n",
    "student.add_degree(\"BSc\")\n",
    "student.add_degree(\"MSc\")\n",
    "\n",
    "student.graduate(\"BSc\")\n",
    "\n",
    "student.display_info()\n"
   ]
  },
  {
   "cell_type": "markdown",
   "metadata": {},
   "source": [
    "## Write another class"
   ]
  },
  {
   "cell_type": "code",
   "execution_count": 16,
   "metadata": {},
   "outputs": [
    {
     "name": "stdout",
     "output_type": "stream",
     "text": [
      "Movies:\n",
      "The Shawshank Redemption (1994)\n",
      "The Godfather (1972)\n",
      "The Dark Knight (2008)\n",
      "\n",
      "Movie info for the first movie:\n",
      "Title: The Shawshank Redemption, Director: Frank Darabont, Year: 1994, Rating: 9.3\n"
     ]
    }
   ],
   "source": [
    "class Movie:\n",
    "    def __init__(self, title, director, year, rating):\n",
    "        self.title = title\n",
    "        self.director = director\n",
    "        self.year = year\n",
    "        self.rating = rating\n",
    "\n",
    "    def display_info(self):\n",
    "        print(f\"Title: {self.title}, Director: {self.director}, Year: {self.year}, Rating: {self.rating}\")\n",
    "    \n",
    "    def __str__(self):\n",
    "        return f\"{self.title} ({self.year})\"\n",
    "    \n",
    "movies = [Movie(\"The Shawshank Redemption\", \"Frank Darabont\", 1994, 9.3),\n",
    "            Movie(\"The Godfather\", \"Francis Ford Coppola\", 1972, 9.2),\n",
    "            Movie(\"The Dark Knight\", \"Christopher Nolan\", 2008, 9.0)]\n",
    "\n",
    "print(\"Movies:\")\n",
    "for movie in movies:\n",
    "    print(movie)\n",
    "\n",
    "print(\"\\nMovie info for the first movie:\")\n",
    "movies[0].display_info()"
   ]
  }
 ],
 "metadata": {
  "kernelspec": {
   "display_name": "Python 3",
   "language": "python",
   "name": "python3"
  },
  "language_info": {
   "codemirror_mode": {
    "name": "ipython",
    "version": 3
   },
   "file_extension": ".py",
   "mimetype": "text/x-python",
   "name": "python",
   "nbconvert_exporter": "python",
   "pygments_lexer": "ipython3",
   "version": "3.9.6"
  }
 },
 "nbformat": 4,
 "nbformat_minor": 2
}
