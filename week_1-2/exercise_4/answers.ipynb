{
 "cells": [
  {
   "cell_type": "markdown",
   "metadata": {},
   "source": [
    "## Mandatory exercises\n",
    "\n",
    "- Class variable or instance variable\n",
    "  - Rewrite the class with `late_fee` as a class variable. \n",
    "  - Create a library book object to make sure that it is possible to calculate the fee.\n",
    "- String representation\n",
    "  - Add a `__str__` and a `__repr__` dunder method\n",
    "- Equal books\n",
    "  - Implement the `__eq__` dunder method"
   ]
  },
  {
   "cell_type": "code",
   "execution_count": 1,
   "metadata": {},
   "outputs": [
    {
     "name": "stdout",
     "output_type": "stream",
     "text": [
      "String method: The Great Gatsby by F. Scott Fitzgerald\n",
      "Repr method: LibraryBook(The Great Gatsby by F. Scott Fitzgerald. Checked out: True)\n",
      "Late fee if 10 days over time: 50\n",
      "Are books with the same name and author equal?: True\n"
     ]
    }
   ],
   "source": [
    "class LibraryBook:\n",
    "\n",
    "    LATE_FEE = 5\n",
    "\n",
    "    def __init__(self, title, author, checked_out):\n",
    "        self.title = title\n",
    "        self.author = author\n",
    "        self.checked_out = checked_out\n",
    "    \n",
    "    def calculate_late_fee(self, days_late):\n",
    "        return days_late * LibraryBook.LATE_FEE\n",
    "    \n",
    "    def __str__(self):\n",
    "        return f\"{self.title} by {self.author}\"\n",
    "    \n",
    "    def __repr__(self):\n",
    "        return f\"LibraryBook({self.title} by {self.author}. Checked out: {self.checked_out})\"\n",
    "    \n",
    "    # Books are considered equal if they have the same title and author\n",
    "    def __eq__(self, other):\n",
    "        if not isinstance(other, LibraryBook):\n",
    "            return False\n",
    "        return self.title == other.title and self.author == other.author\n",
    "\n",
    "borrowed_book = LibraryBook(\"The Great Gatsby\", \"F. Scott Fitzgerald\", True)\n",
    "print(\"String method:\", borrowed_book)\n",
    "print(\"Repr method:\", repr(borrowed_book))\n",
    "print(\"Late fee if 10 days over time:\", borrowed_book.calculate_late_fee(10))\n",
    "same_book = LibraryBook(\"The Great Gatsby\", \"F. Scott Fitzgerald\", False)\n",
    "print(\"Are books with the same name and author equal?:\", borrowed_book == same_book)"
   ]
  },
  {
   "cell_type": "markdown",
   "metadata": {},
   "source": [
    "## Optional exercises\n",
    "- Add dunder methods to allow sorting\n",
    "- Add a list of borrowers as an optional constructor argument with a default value of None"
   ]
  },
  {
   "cell_type": "code",
   "execution_count": 2,
   "metadata": {},
   "outputs": [
    {
     "name": "stdout",
     "output_type": "stream",
     "text": [
      "Books in the order they were added:\n",
      "-----------------------------------\n",
      "The Great Gatsby by F. Scott Fitzgerald\n",
      "The Catcher in the Rye by J.D. Salinger\n",
      "Joyland by Stephen King\n",
      "Joyland by Emily Schultz\n",
      "To Kill a Mockingbird by Harper Lee\n",
      "\n",
      "\n",
      "Books sorted by title and author:\n",
      "---------------------------------\n",
      "Joyland by Emily Schultz\n",
      "Joyland by Stephen King\n",
      "The Catcher in the Rye by J.D. Salinger\n",
      "The Great Gatsby by F. Scott Fitzgerald\n",
      "To Kill a Mockingbird by Harper Lee\n",
      "\n",
      "\n",
      "Books with borrowers:\n",
      "---------------------\n",
      "Joyland by Emily Schultz has not been borrowed\n",
      "Joyland by Stephen King has been borrowed by Bob, Eve\n",
      "The Catcher in the Rye by J.D. Salinger has not been borrowed\n",
      "The Great Gatsby by F. Scott Fitzgerald has not been borrowed\n",
      "To Kill a Mockingbird by Harper Lee has been borrowed by Alice, Bob\n",
      "\n",
      "\n"
     ]
    }
   ],
   "source": [
    "from functools import total_ordering\n",
    "\n",
    "@total_ordering\n",
    "class LibraryBook:\n",
    "\n",
    "    LATE_FEE = 5\n",
    "\n",
    "    def __init__(self, title, author, checked_out, borrowers = None):\n",
    "        self.title = title\n",
    "        self.author = author\n",
    "        self.checked_out = checked_out\n",
    "        self.borrowers = borrowers if borrowers else []\n",
    "    \n",
    "    def calculate_late_fee(self, days_late):\n",
    "        return days_late * LibraryBook.LATE_FEE\n",
    "    \n",
    "    def __str__(self):\n",
    "        return f\"{self.title} by {self.author}\"\n",
    "    \n",
    "    def __repr__(self):\n",
    "        return f\"LibraryBook({self.title} by {self.author}. Checked out: {self.checked_out})\"\n",
    "    \n",
    "    # Books are considered equal if they have the same title and author\n",
    "    def __eq__(self, other):\n",
    "        if not isinstance(other, LibraryBook):\n",
    "            return False\n",
    "        return self.title == other.title and self.author == other.author\n",
    "    \n",
    "    def __lt__(self, other):\n",
    "        if not isinstance(other, LibraryBook):\n",
    "            return NotImplemented\n",
    "        if self.title == other.title:\n",
    "            return self.author < other.author\n",
    "        return self.title < other.title\n",
    "\n",
    "\n",
    "\n",
    "# Create some LibraryBook objects and test the sorting and borrower functionality\n",
    "\n",
    "borrowed_books = [LibraryBook(\"The Great Gatsby\", \"F. Scott Fitzgerald\", True),\n",
    "                    LibraryBook(\"The Catcher in the Rye\", \"J.D. Salinger\", False),\n",
    "                    LibraryBook(\"Joyland\", \"Stephen King\", True, [\"Bob\", \"Eve\"]),\n",
    "                    LibraryBook(\"Joyland\", \"Emily Schultz\", False),\n",
    "                    LibraryBook(\"To Kill a Mockingbird\", \"Harper Lee\", True, [\"Alice\", \"Bob\"])]\n",
    "\n",
    "print('Books in the order they were added:')\n",
    "print('-----------------------------------')\n",
    "print('\\n'.join([str(book) for book in borrowed_books]))\n",
    "print('\\n')\n",
    "\n",
    "borrowed_books.sort()\n",
    "print('Books sorted by title and author:')\n",
    "print('---------------------------------')\n",
    "print('\\n'.join([str(book) for book in borrowed_books]))\n",
    "print('\\n')\n",
    "\n",
    "print('Books with borrowers:')\n",
    "print('---------------------')\n",
    "for book in borrowed_books:\n",
    "    if book.borrowers:\n",
    "        print(f\"{book.title} by {book.author} has been borrowed by {', '.join(book.borrowers)}\")\n",
    "    else:\n",
    "        print(f\"{book.title} by {book.author} has not been borrowed\")\n",
    "print('\\n')\n",
    "\n"
   ]
  },
  {
   "cell_type": "markdown",
   "metadata": {},
   "source": [
    "## Extra optional\n",
    "Why not set the default argument to be an empty list?\n",
    "\n",
    "> An empty list as default value will be initialized once when the first call is made.\n",
    "> Consecutive calls will refer to the same list. This can lead to unexpected behavior.\n",
    "> \n",
    "> Example:\n",
    "> - Assume the constructor argument was `borrowers = []`\n",
    "> - if you later call `borrowed_books[0].borrowers.append(\"Charlie\")`\n",
    "> \n",
    "> All books that was initialized with an empty list will get _Charlie_ appended\n",
    "> to the list of borrowers, which is likely not what was intended."
   ]
  }
 ],
 "metadata": {
  "kernelspec": {
   "display_name": "Python 3",
   "language": "python",
   "name": "python3"
  },
  "language_info": {
   "codemirror_mode": {
    "name": "ipython",
    "version": 3
   },
   "file_extension": ".py",
   "mimetype": "text/x-python",
   "name": "python",
   "nbconvert_exporter": "python",
   "pygments_lexer": "ipython3",
   "version": "3.9.6"
  }
 },
 "nbformat": 4,
 "nbformat_minor": 2
}
