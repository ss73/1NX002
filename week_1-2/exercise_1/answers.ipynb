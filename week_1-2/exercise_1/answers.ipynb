{
 "cells": [
  {
   "cell_type": "markdown",
   "metadata": {},
   "source": [
    "## Naming\n",
    "Improved version of the person class"
   ]
  },
  {
   "cell_type": "code",
   "execution_count": 1,
   "metadata": {},
   "outputs": [
    {
     "name": "stdout",
     "output_type": "stream",
     "text": [
      "Name: Alice\n",
      "Age: 25\n",
      "Lives at: 123 First Street\n"
     ]
    }
   ],
   "source": [
    "# Class names follow the PascalCase convention; Person instead of person\n",
    "class Person:\n",
    "\n",
    "    # Constants are in all caps\n",
    "    AGE_WHEN_OLD = 18\n",
    "\n",
    "    # name instead of persons_name as the class is already named Person\n",
    "    # age instead of a for clarity\n",
    "    # addr is okay for address as it is not easily confused\n",
    "    def __init__(self, name, age, addr): \n",
    "        self.name = name\n",
    "        self.age = age\n",
    "        self.addr = addr\n",
    "        # Not needed as it is refactored to a constant\n",
    "        # self.age_when_old = 18\n",
    "\n",
    "    # printStuff is not a good name for a method, and it does not follow\n",
    "    # the snake_case convention\n",
    "    def print_propertiers(self):\n",
    "        print(f\"Name: {self.name}\")\n",
    "        print(f\"Age: {self.age}\")\n",
    "        print(f\"Lives at: {self.addr}\")\n",
    "\n",
    "    def update_address(self, new_addr):\n",
    "        self.addr = new_addr\n",
    "        print(f\"{self.name}'s address updated to: {self.addr}\")\n",
    "\n",
    "    # is_adult is arguably a better name than adult, as it returns a boolean\n",
    "    def is_adult(self):\n",
    "        return self.age >= self.AGE_WHEN_OLD\n",
    "\n",
    "p1 = Person(\"Alice\", 25, \"123 First Street\")\n",
    "p1.print_propertiers()\n",
    "p2 = Person(\"Bob\", 7, \"456 First Street\")"
   ]
  },
  {
   "cell_type": "markdown",
   "metadata": {},
   "source": [
    "## Loops etc."
   ]
  },
  {
   "cell_type": "code",
   "execution_count": 2,
   "metadata": {},
   "outputs": [
    {
     "name": "stdout",
     "output_type": "stream",
     "text": [
      "Apple number 1 is: Golden delicious\n",
      "Apple number 2 is: Fuji\n",
      "Apple number 3 is: Honeycrisp\n",
      "Apple number 4 is: Gala\n"
     ]
    }
   ],
   "source": [
    "apples = [\"Golden delicious\", \"Fuji\", \"Honeycrisp\", \"Gala\"]\n",
    "# rewrite this loop using enumerate and set start index to 1\n",
    "# for i in range(len(apples)):\n",
    "#    print(f\"Apple number {i} is: {apples[i]}\")\n",
    "for i, apple in enumerate(apples, start=1):\n",
    "    print(f\"Apple number {i} is: {apple}\")\n",
    "\n"
   ]
  },
  {
   "cell_type": "code",
   "execution_count": 3,
   "metadata": {},
   "outputs": [
    {
     "name": "stdout",
     "output_type": "stream",
     "text": [
      "First apple is Golden delicious and first pear is Bartlett\n",
      "Second apple is Fuji and second pear is Red Anjou\n",
      "Third apple is Honeycrisp and third pear is Concorde\n",
      "Fourth apple is Gala and fourth pear is Starkrimson\n"
     ]
    }
   ],
   "source": [
    "order = [\"First\", \"Second\", \"Third\", \"Fourth\"]\n",
    "apples = [\"Golden delicious\", \"Fuji\", \"Honeycrisp\", \"Gala\"]\n",
    "pears = [\"Bartlett\", \"Red Anjou\", \"Concorde\", \"Starkrimson\"]\n",
    "\n",
    "# combine a loop with zip and print a message regarding the apples, pears and their orderings\n",
    "ordered_fruit = zip(order, apples, pears)\n",
    "for order, apple, pear in ordered_fruit:\n",
    "    print(f\"{order} apple is {apple} and {order.lower()} pear is {pear}\")\n"
   ]
  },
  {
   "cell_type": "markdown",
   "metadata": {},
   "source": [
    "What happens if you zip two lists with different lengths?"
   ]
  },
  {
   "cell_type": "code",
   "execution_count": 4,
   "metadata": {},
   "outputs": [
    {
     "name": "stdout",
     "output_type": "stream",
     "text": [
      "[(1, 'A'), (2, 'B'), (3, 'C')]\n"
     ]
    }
   ],
   "source": [
    "res = zip([1, 2, 3, 4],['A', 'B', 'C'])\n",
    "# Print the result of the zip function. The length of the result\n",
    "# should be the same as the shortest input\n",
    "print(list(res))"
   ]
  },
  {
   "cell_type": "markdown",
   "metadata": {},
   "source": [
    "Write a dict comprehension. Add the apples as keys and pears as values. A zip could be useful."
   ]
  },
  {
   "cell_type": "code",
   "execution_count": 5,
   "metadata": {},
   "outputs": [
    {
     "name": "stdout",
     "output_type": "stream",
     "text": [
      "{'Golden delicious': 'Bartlett', 'Fuji': 'Red Anjou', 'Honeycrisp': 'Concorde', 'Gala': 'Starkrimson'}\n"
     ]
    }
   ],
   "source": [
    "apples_and_pears = zip(apples, pears)\n",
    "res = {apple: pear for apple, pear in apples_and_pears}\n",
    "print(res)"
   ]
  },
  {
   "cell_type": "markdown",
   "metadata": {},
   "source": [
    "Rewrite loop as a list comprehension"
   ]
  },
  {
   "cell_type": "code",
   "execution_count": 6,
   "metadata": {},
   "outputs": [
    {
     "name": "stdout",
     "output_type": "stream",
     "text": [
      "['Golden delicious', 'Honeycrisp']\n",
      "['Golden delicious', 'Honeycrisp']\n"
     ]
    }
   ],
   "source": [
    "apple_over_pear = []\n",
    "for apple, pear in zip(apples, pears):\n",
    "    if apple > pear:\n",
    "        apple_over_pear.append(apple)\n",
    "\n",
    "print(apple_over_pear)\n",
    "\n",
    "# Use a list comprehension to create a list of apples that are\n",
    "# larger than their corresponding pear\n",
    "apple_over_pear_listcomp = [apple for apple, pear in zip(apples, pears) if apple > pear]\n",
    "\n",
    "print(apple_over_pear_listcomp)\n",
    "\n",
    "assert apple_over_pear == apple_over_pear_listcomp"
   ]
  },
  {
   "cell_type": "markdown",
   "metadata": {},
   "source": [
    "## Dicts\n",
    "\n",
    "Add and get some additional fruits to/from the apples-pears dict using these methods.\n",
    "\n",
    "🍎 Jonagold, Empire, Cortland\n",
    "\n",
    "🍐 Seckel, Forell, Bosc"
   ]
  },
  {
   "cell_type": "code",
   "execution_count": 7,
   "metadata": {},
   "outputs": [
    {
     "name": "stdout",
     "output_type": "stream",
     "text": [
      "{'Golden delicious': 'Bartlett', 'Fuji': 'Red Anjou', 'Honeycrisp': 'Concorde', 'Gala': 'Starkrimson', 'Jonagold': 'Seckel', 'Empire': 'Forell', 'Cortland': 'Bosc', 'Granny Smith': 'Green Anjou'}\n",
      "No such apple\n"
     ]
    }
   ],
   "source": [
    "apples += [\"Jonagold\", \"Empire\", \"Cortland\"]\n",
    "pears += [\"Seckel\", \"Forell\", \"Bosc\"]\n",
    "\n",
    "apples_and_pears = {apple: pear for apple, pear in zip(apples, pears)}\n",
    "apples_and_pears.setdefault(\"Granny Smith\", \"Green Anjou\")\n",
    "print(apples_and_pears)\n",
    "print(apples_and_pears.get(\"Astrachan\", \"No such apple\"))"
   ]
  },
  {
   "cell_type": "markdown",
   "metadata": {},
   "source": [
    "## Simplify these simple statements\n",
    "Simplify the redundant comparisons "
   ]
  },
  {
   "cell_type": "code",
   "execution_count": 8,
   "metadata": {},
   "outputs": [
    {
     "name": "stdout",
     "output_type": "stream",
     "text": [
      "who knew?\n"
     ]
    }
   ],
   "source": [
    "some_numbers = {1, 2, 3}\n",
    "x = 5\n",
    "# result = x != 1 and x != 2 and x != 3\n",
    "result = x not in some_numbers\n",
    "\n",
    "#if result == False:\n",
    "if not result:\n",
    "    a_list = [y for y in some_numbers if y % 3 == 2]\n",
    "    #if len(a_list) > 0:\n",
    "    if a_list:\n",
    "        print(\"Some result is true, and som list has elements\")\n",
    "    else:\n",
    "        print(\"No, the list is empty\")\n",
    "else:\n",
    "    some_set = {1, 2, 3}\n",
    "    difference = some_set - some_numbers\n",
    "    #if len(difference) == 0:\n",
    "    if not difference:\n",
    "        x = 175 % 34 < 7\n",
    "    else:\n",
    "        x = 175 % 34 > 7\n",
    "#if x == True:\n",
    "if x:\n",
    "    print(\"who knew?\")"
   ]
  }
 ],
 "metadata": {
  "kernelspec": {
   "display_name": "Python 3",
   "language": "python",
   "name": "python3"
  },
  "language_info": {
   "codemirror_mode": {
    "name": "ipython",
    "version": 3
   },
   "file_extension": ".py",
   "mimetype": "text/x-python",
   "name": "python",
   "nbconvert_exporter": "python",
   "pygments_lexer": "ipython3",
   "version": "3.9.6"
  }
 },
 "nbformat": 4,
 "nbformat_minor": 2
}
