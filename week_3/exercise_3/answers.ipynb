{
 "cells": [
  {
   "cell_type": "markdown",
   "metadata": {},
   "source": [
    "## Add type hints to these two functions\n",
    "\n",
    "```python\n",
    "def calculate(numbers, operation):\n",
    "    \"\"\"Calculate the sum or product of a list of numbers.\"\"\"\n",
    "    if operation == \"sum\":\n",
    "        return sum(numbers)\n",
    "    elif operation == \"product\":\n",
    "        result = 1\n",
    "        for num in numbers:\n",
    "            result *= num\n",
    "        return result\n",
    "    else:\n",
    "        raise ValueError(\"Invalid operation. Choose 'sum' or 'product'.\")\n",
    "\n",
    "def gcd(a, b):\n",
    "    \"\"\"Calculate the greatest common divisor of two integers.\"\"\"\n",
    "    while b:\n",
    "        a, b = b, a % b\n",
    "    return a\n",
    "```"
   ]
  },
  {
   "cell_type": "code",
   "execution_count": 1,
   "metadata": {},
   "outputs": [
    {
     "name": "stdout",
     "output_type": "stream",
     "text": [
      "Overwriting calc.py\n"
     ]
    }
   ],
   "source": [
    "%%writefile calc.py\n",
    "\n",
    "from typing import List\n",
    "\n",
    "def calculate(numbers: List[float], operation: str) -> float:\n",
    "    \"\"\"Calculate the sum or product of a list of numbers.\"\"\"\n",
    "    if operation == \"sum\":\n",
    "        return sum(numbers)\n",
    "    elif operation == \"product\":\n",
    "        result = 1\n",
    "        for num in numbers:\n",
    "            result *= num\n",
    "        return result\n",
    "    else:\n",
    "        raise ValueError(\"Invalid operation. Choose 'sum' or 'product'.\")\n",
    "\n",
    "def gcd(a: int, b: int) -> int:\n",
    "    \"\"\"Calculate the greatest common divisor of two integers.\"\"\"\n",
    "    while b:\n",
    "        a, b = b, a % b\n",
    "    return a\n",
    "\n",
    "print(calculate([1, 2, 3, 4, 5], \"sum\"))\n",
    "print(calculate([1.0, 2, 3, 4, 5], \"sum\"))\n",
    "print(calculate([1, 2, 3, 4, 5], \"product\"))\n",
    "print(gcd(12, 15))"
   ]
  },
  {
   "cell_type": "code",
   "execution_count": 2,
   "metadata": {},
   "outputs": [
    {
     "name": "stdout",
     "output_type": "stream",
     "text": [
      "15\n",
      "15.0\n",
      "120\n",
      "3\n"
     ]
    }
   ],
   "source": [
    "%run calc.py"
   ]
  },
  {
   "cell_type": "markdown",
   "metadata": {},
   "source": [
    "## Test the two functions\n",
    "\n",
    "Test the two functions with some arguments. Use the environment from the last exercise or\n",
    "create a new environment. Install mypy in the environment. \n",
    "\n",
    "Apply mypy to the two functions. Try not causing errors and try causing errors.\n"
   ]
  },
  {
   "cell_type": "code",
   "execution_count": 3,
   "metadata": {},
   "outputs": [
    {
     "data": {
      "text/plain": [
       "['Requirement already satisfied: pip in ./venv/lib/python3.9/site-packages (21.2.4)',\n",
       " 'Collecting pip',\n",
       " '  Using cached pip-24.3.1-py3-none-any.whl (1.8 MB)',\n",
       " 'Installing collected packages: pip',\n",
       " '  Attempting uninstall: pip',\n",
       " '    Found existing installation: pip 21.2.4',\n",
       " '    Uninstalling pip-21.2.4:',\n",
       " '      Successfully uninstalled pip-21.2.4',\n",
       " 'Successfully installed pip-24.3.1',\n",
       " 'Collecting mypy',\n",
       " '  Using cached mypy-1.13.0-cp39-cp39-macosx_11_0_arm64.whl.metadata (2.1 kB)',\n",
       " 'Collecting typing-extensions>=4.6.0 (from mypy)',\n",
       " '  Using cached typing_extensions-4.12.2-py3-none-any.whl.metadata (3.0 kB)',\n",
       " 'Collecting mypy-extensions>=1.0.0 (from mypy)',\n",
       " '  Using cached mypy_extensions-1.0.0-py3-none-any.whl.metadata (1.1 kB)',\n",
       " 'Collecting tomli>=1.1.0 (from mypy)',\n",
       " '  Using cached tomli-2.1.0-py3-none-any.whl.metadata (10.0 kB)',\n",
       " 'Using cached mypy-1.13.0-cp39-cp39-macosx_11_0_arm64.whl (10.2 MB)',\n",
       " 'Using cached mypy_extensions-1.0.0-py3-none-any.whl (4.7 kB)',\n",
       " 'Using cached tomli-2.1.0-py3-none-any.whl (13 kB)',\n",
       " 'Using cached typing_extensions-4.12.2-py3-none-any.whl (37 kB)',\n",
       " 'Installing collected packages: typing-extensions, tomli, mypy-extensions, mypy',\n",
       " 'Successfully installed mypy-1.13.0 mypy-extensions-1.0.0 tomli-2.1.0 typing-extensions-4.12.2',\n",
       " 'calc.py:11: \\x1b[1m\\x1b[31merror:\\x1b[m Incompatible types in assignment (expression has type \\x1b[m\\x1b[1m\"float\"\\x1b[m, variable has type \\x1b[m\\x1b[1m\"int\"\\x1b[m)  \\x1b[m\\x1b[33m[assignment]\\x1b[m',\n",
       " '\\x1b[1m\\x1b[31mFound 1 error in 1 file (checked 1 source file)\\x1b[m']"
      ]
     },
     "execution_count": 3,
     "metadata": {},
     "output_type": "execute_result"
    }
   ],
   "source": [
    "%%!\n",
    "python3 -m venv venv\n",
    "source venv/bin/activate && pip install --upgrade pip\n",
    "pip install mypy\n",
    "mypy calc.py\n",
    "deactivate\n",
    "rm -r venv\n",
    "rm -r .mypy_cache"
   ]
  }
 ],
 "metadata": {
  "kernelspec": {
   "display_name": "Python 3",
   "language": "python",
   "name": "python3"
  },
  "language_info": {
   "codemirror_mode": {
    "name": "ipython",
    "version": 3
   },
   "file_extension": ".py",
   "mimetype": "text/x-python",
   "name": "python",
   "nbconvert_exporter": "python",
   "pygments_lexer": "ipython3",
   "version": "3.9.6"
  }
 },
 "nbformat": 4,
 "nbformat_minor": 2
}
