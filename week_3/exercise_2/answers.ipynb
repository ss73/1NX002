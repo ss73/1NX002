{
 "cells": [
  {
   "cell_type": "markdown",
   "metadata": {},
   "source": [
    "## Generate an environment using venv\n",
    "\n",
    "In a new folder, run\n",
    "```bash\n",
    "python -m venv venv\n",
    "```"
   ]
  },
  {
   "cell_type": "code",
   "execution_count": 1,
   "metadata": {},
   "outputs": [],
   "source": [
    "!python3 -m venv venv"
   ]
  },
  {
   "cell_type": "markdown",
   "metadata": {},
   "source": [
    "## Activate the environment\n",
    "\n",
    "The command for activating the environment is: `source venv/bin/activate`"
   ]
  },
  {
   "cell_type": "code",
   "execution_count": 2,
   "metadata": {},
   "outputs": [
    {
     "data": {
      "text/plain": [
       "['Requirement already satisfied: pip in ./venv/lib/python3.9/site-packages (21.2.4)',\n",
       " 'Collecting pip',\n",
       " '  Using cached pip-24.3.1-py3-none-any.whl (1.8 MB)',\n",
       " 'Installing collected packages: pip',\n",
       " '  Attempting uninstall: pip',\n",
       " '    Found existing installation: pip 21.2.4',\n",
       " '    Uninstalling pip-21.2.4:',\n",
       " '      Successfully uninstalled pip-21.2.4',\n",
       " 'Successfully installed pip-24.3.1',\n",
       " 'Python 3.9.6']"
      ]
     },
     "execution_count": 2,
     "metadata": {},
     "output_type": "execute_result"
    }
   ],
   "source": [
    "%%!\n",
    "source venv/bin/activate && pip install --upgrade pip\n",
    "python --version"
   ]
  },
  {
   "cell_type": "markdown",
   "metadata": {},
   "source": [
    "## Install a package in the environment\n",
    "\n",
    "Install Pandas: `pip install pandas`. \n",
    "\n",
    "Try this out in a python program using: \n",
    "```python \n",
    "import pandas as pd\n",
    "```\n"
   ]
  },
  {
   "cell_type": "code",
   "execution_count": 3,
   "metadata": {},
   "outputs": [
    {
     "data": {
      "text/plain": [
       "['Collecting pandas',\n",
       " '  Using cached pandas-2.2.3-cp39-cp39-macosx_11_0_arm64.whl.metadata (89 kB)',\n",
       " 'Collecting numpy>=1.22.4 (from pandas)',\n",
       " '  Using cached numpy-2.0.2-cp39-cp39-macosx_14_0_arm64.whl.metadata (60 kB)',\n",
       " 'Collecting python-dateutil>=2.8.2 (from pandas)',\n",
       " '  Using cached python_dateutil-2.9.0.post0-py2.py3-none-any.whl.metadata (8.4 kB)',\n",
       " 'Collecting pytz>=2020.1 (from pandas)',\n",
       " '  Using cached pytz-2024.2-py2.py3-none-any.whl.metadata (22 kB)',\n",
       " 'Collecting tzdata>=2022.7 (from pandas)',\n",
       " '  Using cached tzdata-2024.2-py2.py3-none-any.whl.metadata (1.4 kB)',\n",
       " 'Collecting six>=1.5 (from python-dateutil>=2.8.2->pandas)',\n",
       " '  Using cached six-1.16.0-py2.py3-none-any.whl.metadata (1.8 kB)',\n",
       " 'Using cached pandas-2.2.3-cp39-cp39-macosx_11_0_arm64.whl (11.3 MB)',\n",
       " 'Using cached numpy-2.0.2-cp39-cp39-macosx_14_0_arm64.whl (5.3 MB)',\n",
       " 'Using cached python_dateutil-2.9.0.post0-py2.py3-none-any.whl (229 kB)',\n",
       " 'Using cached pytz-2024.2-py2.py3-none-any.whl (508 kB)',\n",
       " 'Using cached tzdata-2024.2-py2.py3-none-any.whl (346 kB)',\n",
       " 'Using cached six-1.16.0-py2.py3-none-any.whl (11 kB)',\n",
       " 'Installing collected packages: pytz, tzdata, six, numpy, python-dateutil, pandas',\n",
       " 'Successfully installed numpy-2.0.2 pandas-2.2.3 python-dateutil-2.9.0.post0 pytz-2024.2 six-1.16.0 tzdata-2024.2']"
      ]
     },
     "execution_count": 3,
     "metadata": {},
     "output_type": "execute_result"
    }
   ],
   "source": [
    "%%!\n",
    "source venv/bin/activate\n",
    "pip install pandas\n",
    "python -c \"import pandas as pd\""
   ]
  },
  {
   "cell_type": "markdown",
   "metadata": {},
   "source": [
    "## Create a requirements.txt\n",
    "\n",
    "Create a `requirements.txt` file to document your environment:\n",
    "\n",
    "`pip freeze > requirements.txt`\n",
    "\n",
    "Take a look at the file `requirements.txt`.\n",
    "It should list the packages you installed and the necessary dependencies for those\n",
    "packages."
   ]
  },
  {
   "cell_type": "code",
   "execution_count": 4,
   "metadata": {},
   "outputs": [
    {
     "data": {
      "text/plain": [
       "['numpy==2.0.2',\n",
       " 'pandas==2.2.3',\n",
       " 'python-dateutil==2.9.0.post0',\n",
       " 'pytz==2024.2',\n",
       " 'six==1.16.0',\n",
       " 'tzdata==2024.2']"
      ]
     },
     "execution_count": 4,
     "metadata": {},
     "output_type": "execute_result"
    }
   ],
   "source": [
    "%%!\n",
    "source venv/bin/activate\n",
    "pip freeze > requirements.txt\n",
    "cat requirements.txt"
   ]
  },
  {
   "cell_type": "markdown",
   "metadata": {},
   "source": [
    "## Deactivate, remove and recreate the environment\n",
    "\n",
    "Deactivate your environment using `deactivate`\n",
    "\n",
    "You can now delete the `venv` folder to delete the environment.\n",
    "\n",
    "To confirm that you can recreate the environment using the `requirements.txt` file:\n",
    "* Create a new environment `python -m venv venv`\n",
    "* Activate the environment following the steps in Part 2\n",
    "* install the requirements using `pip install -r requirements.txt`\n",
    "\n",
    "You can now check that you can start the Python interpreter, activate the new\n",
    "environment and import the installed packages. Finally, you can deactivate and delete\n",
    "the new environment as well."
   ]
  },
  {
   "cell_type": "code",
   "execution_count": 5,
   "metadata": {},
   "outputs": [
    {
     "data": {
      "text/plain": [
       "[]"
      ]
     },
     "execution_count": 5,
     "metadata": {},
     "output_type": "execute_result"
    }
   ],
   "source": [
    "%%!\n",
    "source venv/bin/activate\n",
    "deactivate\n",
    "rm -r venv"
   ]
  },
  {
   "cell_type": "code",
   "execution_count": 6,
   "metadata": {},
   "outputs": [
    {
     "data": {
      "text/plain": [
       "['Requirement already satisfied: pip in ./venv/lib/python3.9/site-packages (21.2.4)',\n",
       " 'Collecting pip',\n",
       " '  Using cached pip-24.3.1-py3-none-any.whl (1.8 MB)',\n",
       " 'Installing collected packages: pip',\n",
       " '  Attempting uninstall: pip',\n",
       " '    Found existing installation: pip 21.2.4',\n",
       " '    Uninstalling pip-21.2.4:',\n",
       " '      Successfully uninstalled pip-21.2.4',\n",
       " 'Successfully installed pip-24.3.1',\n",
       " 'Collecting numpy==2.0.2 (from -r requirements.txt (line 1))',\n",
       " '  Using cached numpy-2.0.2-cp39-cp39-macosx_14_0_arm64.whl.metadata (60 kB)',\n",
       " 'Collecting pandas==2.2.3 (from -r requirements.txt (line 2))',\n",
       " '  Using cached pandas-2.2.3-cp39-cp39-macosx_11_0_arm64.whl.metadata (89 kB)',\n",
       " 'Collecting python-dateutil==2.9.0.post0 (from -r requirements.txt (line 3))',\n",
       " '  Using cached python_dateutil-2.9.0.post0-py2.py3-none-any.whl.metadata (8.4 kB)',\n",
       " 'Collecting pytz==2024.2 (from -r requirements.txt (line 4))',\n",
       " '  Using cached pytz-2024.2-py2.py3-none-any.whl.metadata (22 kB)',\n",
       " 'Collecting six==1.16.0 (from -r requirements.txt (line 5))',\n",
       " '  Using cached six-1.16.0-py2.py3-none-any.whl.metadata (1.8 kB)',\n",
       " 'Collecting tzdata==2024.2 (from -r requirements.txt (line 6))',\n",
       " '  Using cached tzdata-2024.2-py2.py3-none-any.whl.metadata (1.4 kB)',\n",
       " 'Using cached numpy-2.0.2-cp39-cp39-macosx_14_0_arm64.whl (5.3 MB)',\n",
       " 'Using cached pandas-2.2.3-cp39-cp39-macosx_11_0_arm64.whl (11.3 MB)',\n",
       " 'Using cached python_dateutil-2.9.0.post0-py2.py3-none-any.whl (229 kB)',\n",
       " 'Using cached pytz-2024.2-py2.py3-none-any.whl (508 kB)',\n",
       " 'Using cached six-1.16.0-py2.py3-none-any.whl (11 kB)',\n",
       " 'Using cached tzdata-2024.2-py2.py3-none-any.whl (346 kB)',\n",
       " 'Installing collected packages: pytz, tzdata, six, numpy, python-dateutil, pandas',\n",
       " 'Successfully installed numpy-2.0.2 pandas-2.2.3 python-dateutil-2.9.0.post0 pytz-2024.2 six-1.16.0 tzdata-2024.2',\n",
       " '',\n",
       " 'Pandas version:  2.2.3']"
      ]
     },
     "execution_count": 6,
     "metadata": {},
     "output_type": "execute_result"
    }
   ],
   "source": [
    "%%!\n",
    "python3 -m venv venv\n",
    "source venv/bin/activate && pip install --upgrade pip\n",
    "pip install -r requirements.txt\n",
    "python -c \"import pandas as pd; print('\\nPandas version: ', pd.__version__)\"\n",
    "deactivate\n",
    "rm -r venv"
   ]
  }
 ],
 "metadata": {
  "kernelspec": {
   "display_name": "Python 3",
   "language": "python",
   "name": "python3"
  },
  "language_info": {
   "codemirror_mode": {
    "name": "ipython",
    "version": 3
   },
   "file_extension": ".py",
   "mimetype": "text/x-python",
   "name": "python",
   "nbconvert_exporter": "python",
   "pygments_lexer": "ipython3",
   "version": "3.9.6"
  }
 },
 "nbformat": 4,
 "nbformat_minor": 2
}
