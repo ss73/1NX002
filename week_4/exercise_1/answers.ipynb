{
 "cells": [
  {
   "cell_type": "markdown",
   "metadata": {},
   "source": [
    "# Dataclasses\n",
    "\n",
    "Complete this data class for representing theatrical lighting fixtures, such as spotlights and\n",
    "floodlights.\n",
    "\n",
    "```python\n",
    "from dataclasses import dataclass\n",
    "\n",
    "@dataclass\n",
    "class LightingEquipment:\n",
    "    \"\"\"\n",
    "    Represents a piece of lighting equipment in a Play.\n",
    "    \"\"\"\n",
    "    # Attributes:\n",
    "    # - name: str - The name of the lighting equipment (e.g., \"Spotlight\").\n",
    "    # - wattage: int - The power consumption of the equipment in watts.\n",
    "    # - is_led: bool - Whether the equipment is LED (True for LED, False otherwise).\n",
    "```\n",
    "Create som objects of this class and check their string representation"
   ]
  },
  {
   "cell_type": "code",
   "execution_count": 1,
   "metadata": {},
   "outputs": [
    {
     "name": "stdout",
     "output_type": "stream",
     "text": [
      "LightingEquipment(name='Center Floodlight', wattage=3000, is_led=False)\n",
      "LightingEquipment(name='Stage Left Spotlight', wattage=30, is_led=True)\n",
      "LightingEquipment(name='Stage Right Spotlight', wattage=30, is_led=True)\n"
     ]
    }
   ],
   "source": [
    "from dataclasses import dataclass\n",
    "\n",
    "@dataclass\n",
    "class LightingEquipment:\n",
    "    \"\"\"\n",
    "    Represents a piece of lighting equipment in a Play.\n",
    "    \"\"\"\n",
    "    # Attributes:\n",
    "    name: str # - The name of the lighting equipment (e.g., \"Spotlight\").\n",
    "    wattage: int # - The power consumption of the equipment in watts.\n",
    "    is_led: bool # - Whether the equipment is LED (True for LED, False otherwise).\n",
    "\n",
    "center_flood = LightingEquipment('Center Floodlight', 3000, False)\n",
    "left_spot = LightingEquipment('Stage Left Spotlight', 30, True)\n",
    "right_spot = LightingEquipment('Stage Right Spotlight', 30, True)\n",
    "\n",
    "print(center_flood)\n",
    "print(left_spot)\n",
    "print(right_spot)"
   ]
  },
  {
   "cell_type": "markdown",
   "metadata": {},
   "source": [
    "## Add a method\n",
    "\n",
    "Add a method for calculating power consumption in kilowatt-hours to the class with hours as\n",
    "a parameter.\n",
    "\n",
    "The calculation: ```(wattage/1000)*hours```"
   ]
  },
  {
   "cell_type": "code",
   "execution_count": 2,
   "metadata": {},
   "outputs": [
    {
     "name": "stdout",
     "output_type": "stream",
     "text": [
      "Five hour play consumption\n",
      "Center Floodlight 15.0 kWh\n",
      "Stage Left Spotlight 0.15 kWh\n",
      "Stage Right Spotlight 0.15 kWh\n"
     ]
    }
   ],
   "source": [
    "# Retro-fitting methods to a class rather than subclassing is like holding a black mass in a church\n",
    "# but this is about working with dataclasses - not how to do OOP in general\n",
    "def calc_power_consumption_kwh(self, hours: float) -> float:\n",
    "    return round(hours * self.wattage/1000, 2)\n",
    "\n",
    "LightingEquipment.calc_power_consumption_kwh = calc_power_consumption_kwh\n",
    "\n",
    "print('Five hour play consumption')\n",
    "print(center_flood.name, center_flood.calc_power_consumption_kwh(5), 'kWh')\n",
    "print(left_spot.name, left_spot.calc_power_consumption_kwh(5), 'kWh')\n",
    "print(right_spot.name, right_spot.calc_power_consumption_kwh(5), 'kWh')"
   ]
  },
  {
   "cell_type": "markdown",
   "metadata": {},
   "source": [
    "## Write your own dataclass\n",
    "\n",
    "Challenge: Write a data class that can be sorted and confirm that it works."
   ]
  },
  {
   "cell_type": "code",
   "execution_count": 13,
   "metadata": {},
   "outputs": [
    {
     "name": "stdout",
     "output_type": "stream",
     "text": [
      "Retro Computer Collection: ['ZX Spectrum (1982), sold 5M', 'Vic 20 (1980), sold 3M', 'Apple II (1977), sold 6M', 'Commodore 64 (1982), sold 17M']\n",
      "Sorted by sales: ['Commodore 64 (1982), sold 17M', 'Apple II (1977), sold 6M', 'ZX Spectrum (1982), sold 5M', 'Vic 20 (1980), sold 3M']\n"
     ]
    }
   ],
   "source": [
    "from dataclasses import dataclass, field\n",
    "\n",
    "@dataclass(order=True)\n",
    "class RetroComputer:\n",
    "    name: str = field(compare=False)\n",
    "    launch_year: int = field(compare=False)\n",
    "    sold_million_units: int\n",
    "\n",
    "    def __str__(self):\n",
    "        return f'{self.name} ({self.launch_year}), sold {self.sold_million_units}M'\n",
    "\n",
    "retro_collection = [RetroComputer('ZX Spectrum', 1982, 5), \n",
    "                    RetroComputer('Vic 20', 1980, 3),\n",
    "                    RetroComputer('Apple II', 1977, 6),\n",
    "                    RetroComputer('Commodore 64', 1982, 17)]\n",
    "\n",
    "print('Retro Computer Collection:', [str(x) for x in retro_collection])\n",
    "sorted_retro_collection = sorted(retro_collection, reverse=True)\n",
    "print('Sorted by sales:', [str(x) for x in sorted_retro_collection])"
   ]
  },
  {
   "cell_type": "markdown",
   "metadata": {},
   "source": [
    "# Properties\n",
    "\n",
    "The class below represents a costume for an actor in a Play. It has a `color` property for\n",
    "setting and getting the costumes color.\n",
    "\n",
    "```python\n",
    "class Costume:\n",
    "    \"\"\"\n",
    "    Represents a costume for an actor in a play.\n",
    "    \"\"\"\n",
    "    def __init__(self, color: str, period: str):\n",
    "        self._color = color\n",
    "        self._period = period\n",
    "\n",
    "    @property\n",
    "    def color(self) -> str:\n",
    "        \"\"\"\n",
    "        Returns the color of the costume.\n",
    "        \"\"\"\n",
    "        return self._color\n",
    "\n",
    "    @color.setter\n",
    "    def color(self, value: str):\n",
    "        if not value:\n",
    "            raise ValueError(\"Color must be a non-empty string.\")\n",
    "        self._color = value\n",
    "```"
   ]
  },
  {
   "cell_type": "markdown",
   "metadata": {},
   "source": [
    "Add a property for the period of the costume. As for the color property, add the property itself\n",
    "and a setter. \n",
    "\n",
    "* The getter returns the `_period` attribute. \n",
    "* The setter should validate that an incoming value for the costumes period should be one of the following: `[\"Victorian\", \"Modern\", \"Renaissance\", \"Futuristic\"]`\n",
    "\n",
    "Create a couple of Costume objects and make sure the properties work as expected.\n"
   ]
  },
  {
   "cell_type": "code",
   "execution_count": 55,
   "metadata": {},
   "outputs": [
    {
     "name": "stdout",
     "output_type": "stream",
     "text": [
      "Costume: color=Blue, period=Victorian\n",
      "\u001b[40m\u001b[93mAssigning emtpy string to color: \u001b[41mValueError:\u001b[40m\u001b[91m Color must be a non-empty string.\n",
      "\u001b[40m\u001b[93mAssigning \"medieval\" to period: \u001b[41mValueError:\u001b[40m\u001b[91m Period must one of [Victorian, Modern, Renaissance, Futuristic]\n"
     ]
    }
   ],
   "source": [
    "class Costume:\n",
    "    PERIODS = [\"Victorian\", \"Modern\", \"Renaissance\", \"Futuristic\"]\n",
    "    \"\"\"\n",
    "    Represents a costume for an actor in a play.\n",
    "    \"\"\"\n",
    "    def __init__(self, color: str, period: str):\n",
    "        self.color = color\n",
    "        self.period = period\n",
    "\n",
    "    @property\n",
    "    def color(self) -> str:\n",
    "        \"\"\"\n",
    "        Returns the color of the costume.\n",
    "        \"\"\"\n",
    "        return self._color\n",
    "\n",
    "    @color.setter\n",
    "    def color(self, value: str):\n",
    "        if not value:\n",
    "            raise ValueError(\"Color must be a non-empty string.\")\n",
    "        self._color = value\n",
    "    \n",
    "    @property\n",
    "    def period(self) -> str:\n",
    "        return self._period\n",
    "    \n",
    "    @period.setter\n",
    "    def period(self, value:str):\n",
    "        if not value or not value.capitalize() in Costume.PERIODS:\n",
    "            raise ValueError(f\"Period must one of [{', '.join(Costume.PERIODS)}]\")\n",
    "        self._period = value.capitalize()\n",
    "    \n",
    "    def __repr__(self):\n",
    "        return f\"Costume: color={self.color}, period={self.period}\"\n",
    "\n",
    "print(Costume('Blue', 'vIcTOrian'))\n",
    "\n",
    "try:\n",
    "    print('\\033[40m\\033[93mAssigning emtpy string to color:', end=' ')\n",
    "    print(Costume('', 'modern'))\n",
    "except Exception as e:\n",
    "    print('\\033[41m' + type(e).__name__ + ':\\033[40m\\033[91m', e)\n",
    "\n",
    "try:\n",
    "    print('\\033[40m\\033[93mAssigning \"medieval\" to period:', end=' ')\n",
    "    print(Costume('Green', 'Medieval'))\n",
    "except Exception as e:\n",
    "    print('\\033[41m' + type(e).__name__ + ':\\033[40m\\033[91m', e)"
   ]
  }
 ],
 "metadata": {
  "kernelspec": {
   "display_name": "Python 3",
   "language": "python",
   "name": "python3"
  },
  "language_info": {
   "codemirror_mode": {
    "name": "ipython",
    "version": 3
   },
   "file_extension": ".py",
   "mimetype": "text/x-python",
   "name": "python",
   "nbconvert_exporter": "python",
   "pygments_lexer": "ipython3",
   "version": "3.9.6"
  }
 },
 "nbformat": 4,
 "nbformat_minor": 2
}
